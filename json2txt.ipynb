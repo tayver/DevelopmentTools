{
  "nbformat": 4,
  "nbformat_minor": 0,
  "metadata": {
    "colab": {
      "provenance": [],
      "mount_file_id": "1kc3qU0fQdR7xHkRPde0sLK8xYtvHTHEc",
      "authorship_tag": "ABX9TyMGGRO1GWYawxT63aG9Cn2V",
      "include_colab_link": true
    },
    "kernelspec": {
      "name": "python3",
      "display_name": "Python 3"
    },
    "language_info": {
      "name": "python"
    }
  },
  "cells": [
    {
      "cell_type": "markdown",
      "metadata": {
        "id": "view-in-github",
        "colab_type": "text"
      },
      "source": [
        "<a href=\"https://colab.research.google.com/github/tayver/DevelopmentTools/blob/main/json2txt.ipynb\" target=\"_parent\"><img src=\"https://colab.research.google.com/assets/colab-badge.svg\" alt=\"Open In Colab\"/></a>"
      ]
    },
    {
      "cell_type": "markdown",
      "source": [
        "**라벨 8개로 변경(2: Leye_closed, 4:Reye_closed 추가)**"
      ],
      "metadata": {
        "id": "wl6uggHrHi4P"
      }
    },
    {
      "cell_type": "code",
      "source": [
        "import os\n",
        "import json\n",
        "import sys\n",
        "import re"
      ],
      "metadata": {
        "id": "qCyPFSloCZZl"
      },
      "execution_count": null,
      "outputs": []
    },
    {
      "cell_type": "code",
      "execution_count": null,
      "metadata": {
        "id": "Y5yhk2xQBx5x"
      },
      "outputs": [],
      "source": [
        "for directory in os.listdir(os.path.abspath(\"./labels\")):\n",
        "     print(f'{directory}')\n",
        "     if os.path.isdir(os.path.abspath(os.path.join(os.path.abspath(\"./labels\"), directory))):\n",
        "         print('12')\n",
        "         for file in os.listdir(os.path.abspath(os.path.join(os.path.abspath(\"./labels\"), directory))):\n",
        "             print('2')\n",
        "             if file.endswith(\".json\"):\n",
        "                 FILE = os.path.abspath(os.path.join(os.path.abspath(\"./labels\"), directory, file))\n",
        "                 print(FILE)\n",
        "                 with open(os.path.abspath(os.path.join(os.path.abspath(\"./labels\"), directory, file)), \"r\",encoding=\"UTF-8\") as f:\n",
        "\n",
        "                     data = json.load(f)\n",
        "                     print('3')\n",
        "\n",
        "                 with open(os.path.join(os.path.abspath(\"./labels\"), directory, file[:-5] + \".txt\"), \"w\") as f:\n",
        "                     for object in data[\"ObjectInfo\"][\"BoundingBox\"]:\n",
        "                         path = data[\"ObjectInfo\"][\"BoundingBox\"][f\"{object}\"][\"isVisible\"]\n",
        "                         opened = data[\"ObjectInfo\"][\"BoundingBox\"][f\"{object}\"][\"Opened\"]\n",
        "\n",
        "                         if path:\n",
        "                             path2 = data[\"ObjectInfo\"][\"BoundingBox\"][f\"{object}\"][\"Position\"]\n",
        "                             print(f\"2, {object}\")\n",
        "                             x = (path2[0]+path2[2]) / data[\"FileInfo\"][\"Width\"] / 2\n",
        "                             y = (path2[1]+path[3]) / data[\"FileInfo\"][\"Height\"] / 2\n",
        "                             w = (path2[2]-path[0]) / data[\"FileInfo\"][\"Width\"]\n",
        "                             h = (path2[3]-path[1]) / data[\"FileInfo\"][\"Height\"]\n",
        "                             if !(opened):\n",
        "                                f.write(f\"{object}_closed {x} {y} {w} {h}\\n\")\n",
        "                             f.write(f\"{object} {x} {y} {w} {h}\\n\")\n",
        "                             print('4')\n",
        "\n"
      ]
    },
    {
      "cell_type": "code",
      "source": [
        "for directory in os.listdir(os.path.abspath(\"./labels\")):\n",
        "     print(f'{directory}')\n",
        "\n",
        "     if directory.endswith(\".json\"):\n",
        "         FILE = os.path.abspath(os.path.join(os.path.abspath(\"./labels\"), directory))\n",
        "         print(FILE)\n",
        "         with open(os.path.abspath(os.path.join(os.path.abspath(\"./labels\"), directory)), \"r\",encoding=\"UTF-8\") as f:\n",
        "\n",
        "             data = json.load(f)\n",
        "             print('3')\n",
        "\n",
        "         with open(os.path.join(os.path.abspath(\"./labels\"), directory[:-5] + \".txt\"), \"w\") as f:\n",
        "             for object in data[\"ObjectInfo\"][\"BoundingBox\"]:\n",
        "                 path = data[\"ObjectInfo\"][\"BoundingBox\"][f\"{object}\"][\"isVisible\"]\n",
        "                 opened = data[\"ObjectInfo\"][\"BoundingBox\"][f\"{object}\"][\"Opened\"]\n",
        "\n",
        "                 if path:\n",
        "                     path2 = data[\"ObjectInfo\"][\"BoundingBox\"][f\"{object}\"][\"Position\"]\n",
        "                     print(f\"2, {object}\")\n",
        "                     x = (path2[0]+path2[2]) / 2\n",
        "                     y = (path2[1]+path2[3]) / 2\n",
        "                     w = (path2[2]-path2[0])\n",
        "                     h = (path2[3]-path2[1])\n",
        "                     if !(opened):\n",
        "                        f.write(f\"{object}_closed {x} {y} {w} {h}\\n\")\n",
        "                     f.write(f\"{object} {x} {y} {w} {h}\\n\")\n",
        "                     print('4')\n"
      ],
      "metadata": {
        "id": "CeI5Ntt2CPsI"
      },
      "execution_count": null,
      "outputs": []
    },
    {
      "cell_type": "code",
      "source": [
        "def replace_face(file):\n",
        "  with open(file, \"r\", encoding=\"utf-8\") as f:\n",
        "    content = f.read()\n",
        "  content = content.replace(\"Face\", \"0\")\n",
        "  content = content.replace(\"Leye\", \"1\")\n",
        "  content = content.replace(\"Leye_closed\", \"2\")\n",
        "  content = content.replace(\"Reye\", \"3\")\n",
        "  content = content.replace(\"Reye_clsoed\", \"4\")\n",
        "  content = content.replace(\"Mouth\", \"5\")\n",
        "  content = content.replace(\"Phone\", \"6\")\n",
        "  content = content.replace(\"Cigar\", \"7\")\n",
        "  with open(file, \"w\", encoding=\"utf-8\") as f:\n",
        "    f.write(content)\n",
        "\n",
        "if __name__ == \"__main__\":\n",
        "  for root, dirs, files in os.walk(\"./data/labels\"):\n",
        "    for file in files:\n",
        "      if file.endswith(\".txt\"):\n",
        "        replace_face(os.path.join(root, file))"
      ],
      "metadata": {
        "id": "P_qS3pKzCJJv"
      },
      "execution_count": null,
      "outputs": []
    },
    {
      "cell_type": "code",
      "source": [],
      "metadata": {
        "id": "Mpo25vYnF3rh"
      },
      "execution_count": null,
      "outputs": []
    }
  ]
}